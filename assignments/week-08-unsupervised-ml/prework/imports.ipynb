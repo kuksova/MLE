{
 "cells": [
  {
   "cell_type": "markdown",
   "metadata": {},
   "source": [
    "# Sanity Check"
   ]
  },
  {
   "cell_type": "markdown",
   "metadata": {},
   "source": [
    "Run the following cell to load the necessary packages. And if you see any errors, please inform instructors to help you troubleshoot; otherwise, you are ready to have fun!"
   ]
  },
  {
   "cell_type": "code",
   "execution_count": 1,
   "metadata": {},
   "outputs": [
    {
     "name": "stdout",
     "output_type": "stream",
     "text": [
      "Collecting ipython==8.4.0\n",
      "  Using cached ipython-8.4.0-py3-none-any.whl (750 kB)\n",
      "Requirement already satisfied: matplotlib==3.5.2 in /home/sveta/anaconda3/envs/mle-course/lib/python3.8/site-packages (from -r requirements.txt (line 2)) (3.5.2)\n",
      "Requirement already satisfied: numpy==1.23.1 in /home/sveta/anaconda3/envs/mle-course/lib/python3.8/site-packages (from -r requirements.txt (line 3)) (1.23.1)\n",
      "Requirement already satisfied: pandas==1.4.3 in /home/sveta/anaconda3/envs/mle-course/lib/python3.8/site-packages (from -r requirements.txt (line 4)) (1.4.3)\n",
      "Requirement already satisfied: scikit_learn==1.1.1 in /home/sveta/anaconda3/envs/mle-course/lib/python3.8/site-packages (from -r requirements.txt (line 5)) (1.1.1)\n",
      "Requirement already satisfied: pexpect>4.3 in /home/sveta/anaconda3/envs/mle-course/lib/python3.8/site-packages (from ipython==8.4.0->-r requirements.txt (line 1)) (4.8.0)\n",
      "Requirement already satisfied: stack-data in /home/sveta/.local/lib/python3.8/site-packages (from ipython==8.4.0->-r requirements.txt (line 1)) (0.5.1)\n",
      "Requirement already satisfied: pickleshare in /home/sveta/.local/lib/python3.8/site-packages (from ipython==8.4.0->-r requirements.txt (line 1)) (0.7.5)\n",
      "Requirement already satisfied: decorator in /home/sveta/.local/lib/python3.8/site-packages (from ipython==8.4.0->-r requirements.txt (line 1)) (5.1.1)\n",
      "Requirement already satisfied: pygments>=2.4.0 in /home/sveta/.local/lib/python3.8/site-packages (from ipython==8.4.0->-r requirements.txt (line 1)) (2.13.0)\n",
      "Requirement already satisfied: setuptools>=18.5 in /home/sveta/anaconda3/envs/mle-course/lib/python3.8/site-packages (from ipython==8.4.0->-r requirements.txt (line 1)) (63.4.1)\n",
      "Requirement already satisfied: backcall in /home/sveta/.local/lib/python3.8/site-packages (from ipython==8.4.0->-r requirements.txt (line 1)) (0.2.0)\n",
      "Requirement already satisfied: jedi>=0.16 in /home/sveta/.local/lib/python3.8/site-packages (from ipython==8.4.0->-r requirements.txt (line 1)) (0.18.1)\n",
      "Requirement already satisfied: prompt-toolkit!=3.0.0,!=3.0.1,<3.1.0,>=2.0.0 in /home/sveta/.local/lib/python3.8/site-packages (from ipython==8.4.0->-r requirements.txt (line 1)) (3.0.31)\n",
      "Requirement already satisfied: traitlets>=5 in /home/sveta/.local/lib/python3.8/site-packages (from ipython==8.4.0->-r requirements.txt (line 1)) (5.5.0)\n",
      "Requirement already satisfied: matplotlib-inline in /home/sveta/.local/lib/python3.8/site-packages (from ipython==8.4.0->-r requirements.txt (line 1)) (0.1.6)\n",
      "Requirement already satisfied: cycler>=0.10 in /home/sveta/anaconda3/envs/mle-course/lib/python3.8/site-packages (from matplotlib==3.5.2->-r requirements.txt (line 2)) (0.11.0)\n",
      "Requirement already satisfied: packaging>=20.0 in /home/sveta/anaconda3/envs/mle-course/lib/python3.8/site-packages (from matplotlib==3.5.2->-r requirements.txt (line 2)) (21.3)\n",
      "Requirement already satisfied: fonttools>=4.22.0 in /home/sveta/anaconda3/envs/mle-course/lib/python3.8/site-packages (from matplotlib==3.5.2->-r requirements.txt (line 2)) (4.37.4)\n",
      "Requirement already satisfied: pyparsing>=2.2.1 in /home/sveta/anaconda3/envs/mle-course/lib/python3.8/site-packages (from matplotlib==3.5.2->-r requirements.txt (line 2)) (3.0.9)\n",
      "Requirement already satisfied: kiwisolver>=1.0.1 in /home/sveta/anaconda3/envs/mle-course/lib/python3.8/site-packages (from matplotlib==3.5.2->-r requirements.txt (line 2)) (1.4.4)\n",
      "Requirement already satisfied: pillow>=6.2.0 in /home/sveta/anaconda3/envs/mle-course/lib/python3.8/site-packages (from matplotlib==3.5.2->-r requirements.txt (line 2)) (9.2.0)\n",
      "Requirement already satisfied: python-dateutil>=2.7 in /home/sveta/anaconda3/envs/mle-course/lib/python3.8/site-packages (from matplotlib==3.5.2->-r requirements.txt (line 2)) (2.8.2)\n",
      "Requirement already satisfied: pytz>=2020.1 in /home/sveta/anaconda3/envs/mle-course/lib/python3.8/site-packages (from pandas==1.4.3->-r requirements.txt (line 4)) (2022.5)\n",
      "Requirement already satisfied: joblib>=1.0.0 in /home/sveta/anaconda3/envs/mle-course/lib/python3.8/site-packages (from scikit_learn==1.1.1->-r requirements.txt (line 5)) (1.2.0)\n",
      "Requirement already satisfied: threadpoolctl>=2.0.0 in /home/sveta/anaconda3/envs/mle-course/lib/python3.8/site-packages (from scikit_learn==1.1.1->-r requirements.txt (line 5)) (3.1.0)\n",
      "Requirement already satisfied: scipy>=1.3.2 in /home/sveta/.local/lib/python3.8/site-packages (from scikit_learn==1.1.1->-r requirements.txt (line 5)) (1.5.4)\n",
      "Requirement already satisfied: parso<0.9.0,>=0.8.0 in /home/sveta/.local/lib/python3.8/site-packages (from jedi>=0.16->ipython==8.4.0->-r requirements.txt (line 1)) (0.8.3)\n",
      "Requirement already satisfied: ptyprocess>=0.5 in /home/sveta/.local/lib/python3.8/site-packages (from pexpect>4.3->ipython==8.4.0->-r requirements.txt (line 1)) (0.7.0)\n",
      "Requirement already satisfied: wcwidth in /home/sveta/.local/lib/python3.8/site-packages (from prompt-toolkit!=3.0.0,!=3.0.1,<3.1.0,>=2.0.0->ipython==8.4.0->-r requirements.txt (line 1)) (0.2.5)\n",
      "Requirement already satisfied: six>=1.5 in /home/sveta/anaconda3/envs/mle-course/lib/python3.8/site-packages (from python-dateutil>=2.7->matplotlib==3.5.2->-r requirements.txt (line 2)) (1.16.0)\n",
      "Requirement already satisfied: pure-eval in /home/sveta/.local/lib/python3.8/site-packages (from stack-data->ipython==8.4.0->-r requirements.txt (line 1)) (0.2.2)\n",
      "Requirement already satisfied: asttokens in /home/sveta/.local/lib/python3.8/site-packages (from stack-data->ipython==8.4.0->-r requirements.txt (line 1)) (2.0.8)\n",
      "Requirement already satisfied: executing in /home/sveta/.local/lib/python3.8/site-packages (from stack-data->ipython==8.4.0->-r requirements.txt (line 1)) (1.1.1)\n",
      "Installing collected packages: ipython\n",
      "  Attempting uninstall: ipython\n",
      "    Found existing installation: ipython 8.5.0\n",
      "    Uninstalling ipython-8.5.0:\n",
      "      Successfully uninstalled ipython-8.5.0\n",
      "Successfully installed ipython-8.4.0\n",
      "\n",
      "\u001b[1m[\u001b[0m\u001b[34;49mnotice\u001b[0m\u001b[1;39;49m]\u001b[0m\u001b[39;49m A new release of pip available: \u001b[0m\u001b[31;49m22.3\u001b[0m\u001b[39;49m -> \u001b[0m\u001b[32;49m22.3.1\u001b[0m\n",
      "\u001b[1m[\u001b[0m\u001b[34;49mnotice\u001b[0m\u001b[1;39;49m]\u001b[0m\u001b[39;49m To update, run: \u001b[0m\u001b[32;49mpip install --upgrade pip\u001b[0m\n"
     ]
    }
   ],
   "source": [
    "!pip install -r requirements.txt"
   ]
  },
  {
   "cell_type": "code",
   "execution_count": 2,
   "metadata": {},
   "outputs": [],
   "source": [
    "import numpy as np      \n",
    "import pandas as pd     \n",
    "\n",
    "import matplotlib.pyplot as plt  \n",
    "\n",
    "from sklearn.cluster import KMeans\n",
    "from sklearn.decomposition import PCA\n",
    "from sklearn.metrics import classification_report\n",
    "from sklearn.model_selection import train_test_split\n",
    "from sklearn.linear_model import LogisticRegression\n",
    "from sklearn.pipeline import make_pipeline\n",
    "from sklearn.preprocessing import StandardScaler\n"
   ]
  },
  {
   "cell_type": "code",
   "execution_count": null,
   "metadata": {},
   "outputs": [],
   "source": []
  }
 ],
 "metadata": {
  "kernelspec": {
   "display_name": "Python 3 (ipykernel)",
   "language": "python",
   "name": "python3"
  },
  "language_info": {
   "codemirror_mode": {
    "name": "ipython",
    "version": 3
   },
   "file_extension": ".py",
   "mimetype": "text/x-python",
   "name": "python",
   "nbconvert_exporter": "python",
   "pygments_lexer": "ipython3",
   "version": "3.8.13"
  },
  "vscode": {
   "interpreter": {
    "hash": "f70fe2e7e7cb52bf2bf0a2d8cc8af5768efe1556307d7c8f07dd0e6b20b16428"
   }
  }
 },
 "nbformat": 4,
 "nbformat_minor": 2
}
